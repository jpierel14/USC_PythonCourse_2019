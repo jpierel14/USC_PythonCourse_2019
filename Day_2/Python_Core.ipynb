{
 "cells": [
  {
   "cell_type": "markdown",
   "metadata": {},
   "source": [
    "Made by: Bryan Chavez\n",
    "Code was pulled from a few places and the references are at the bottom."
   ]
  },
  {
   "cell_type": "code",
   "execution_count": null,
   "metadata": {},
   "outputs": [],
   "source": [
    "import numpy as np #three intial packages(numpy, matplotlib, and scipy)\n",
    "import matplotlib.pyplot as plt\n",
    "import scipy as sc"
   ]
  },
  {
   "cell_type": "markdown",
   "metadata": {},
   "source": [
    "# ***********\n",
    "Usage Guide\n",
    "***********\n",
    "\n",
    "This tutorial covers some basic usage patterns and best-practices to\n",
    "help you get started with Matplotlib.\n",
    "\n",
    "\n",
    "General Concepts\n",
    "================\n",
    "\n",
    ":mod:`matplotlib` has an extensive codebase that can be daunting to many\n",
    "new users. However, most of matplotlib can be understood with a fairly\n",
    "simple conceptual framework and knowledge of a few important points.\n",
    "\n",
    "Plotting requires action on a range of levels, from the most general\n",
    "(e.g., 'contour this 2-D array') to the most specific (e.g., 'color\n",
    "this screen pixel red'). The purpose of a plotting package is to assist\n",
    "you in visualizing your data as easily as possible, with all the necessary\n",
    "control -- that is, by using relatively high-level commands most of\n",
    "the time, and still have the ability to use the low-level commands when\n",
    "needed.\n",
    "\n",
    "Therefore, everything in matplotlib is organized in a hierarchy. At the top\n",
    "of the hierarchy is the matplotlib \"state-machine environment\" which is\n",
    "provided by the :mod:`matplotlib.pyplot` module. At this level, simple\n",
    "functions are used to add plot elements (lines, images, text, etc.) to\n",
    "the current axes in the current figure.\n",
    "\n",
    "<div class=\"alert alert-info\"><h4>Note</h4><p>Pyplot's state-machine environment behaves similarly to MATLAB and\n",
    "   should be most familiar to users with MATLAB experience.</p></div>\n",
    "\n",
    "The next level down in the hierarchy is the first level of the object-oriented\n",
    "interface, in which pyplot is used only for a few functions such as figure\n",
    "creation, and the user explicitly creates and keeps track of the figure\n",
    "and axes objects. At this level, the user uses pyplot to create figures,\n",
    "and through those figures, one or more axes objects can be created. These\n",
    "axes objects are then used for most plotting actions.\n",
    "\n",
    "For even more control -- which is essential for things like embedding\n",
    "matplotlib plots in GUI applications -- the pyplot level may be dropped\n",
    "completely, leaving a purely object-oriented approach.\n"
   ]
  },
  {
   "cell_type": "markdown",
   "metadata": {},
   "source": [
    "# Basic MatPlotLib"
   ]
  },
  {
   "cell_type": "code",
   "execution_count": null,
   "metadata": {},
   "outputs": [],
   "source": [
    "x = np.arange(0, 10, 0.2) #start by making an array of data\n",
    "sinx = np.sin(x)\n",
    "cosx = np.cos(x)\n",
    "fig, ax = plt.subplots(figsize=(9,5)) #subplots allows for more plots used latter \n",
    "ax.plot(x, sinx) #this makes the plot\n",
    "plt.show() #This 'prints' the plot"
   ]
  },
  {
   "cell_type": "markdown",
   "metadata": {},
   "source": [
    "# Numpy & MatPlotlib"
   ]
  },
  {
   "cell_type": "code",
   "execution_count": null,
   "metadata": {},
   "outputs": [],
   "source": [
    "#Now lets take the data we made with numpy and manipulate it\n",
    "#new array of data from sin(x)*cos(x)\n",
    "sincos = sinx*cosx #manipulate the arrays with numpy\n",
    "fig, ax = plt.subplots(3,1, figsize=(15,10)) #setup three subplots numbered from 0 to 2, figsize define the whole area\n",
    "#first plot\n",
    "ax[0].plot(x,sinx)\n",
    "ax[0].set_xlabel('time')\n",
    "ax[0].set_ylabel('sin(x)')\n",
    "\n",
    "#sin(x)*cos(x)\n",
    "ax[1].plot(x,sincos, label = 'sin(x)*cos(x)') #two plots on the same graph\n",
    "ax[1].plot(x,sinx, label = 'sin(x)')\n",
    "ax[1].legend()\n",
    "ax[1].set_xlabel('time')\n",
    "ax[1].set_ylabel('sin(x)*cos(x)')\n",
    "#sin(x) vs cos(x)\n",
    "ax[2].plot(cosx,sinx)\n",
    "ax[2].set_xlabel('cos(x)')\n",
    "ax[2].set_ylabel('sin(x)')\n",
    "\n",
    "fig.tight_layout()\n",
    "plt.show() #this will plot each different subplot on its own graph"
   ]
  },
  {
   "cell_type": "code",
   "execution_count": null,
   "metadata": {},
   "outputs": [],
   "source": [
    "plt.figure(figsize=(10,5))\n",
    "plt.plot(x,sinx, label= 'sin(x)', c = 'g') #plot different plot on same plot with Legend and colors\n",
    "plt.plot(x,cosx, label= 'cos(x)', c = 'r') #basic two plots without subplots\n",
    "plt.title(\"Simple Plot\")\n",
    "plt.xlabel('Degrees(radians)')\n",
    "plt.ylabel('sin(x), cos(x)')\n",
    "plt.legend()\n",
    "fig.tight_layout()\n",
    "\n",
    "plt.show()"
   ]
  },
  {
   "cell_type": "markdown",
   "metadata": {},
   "source": [
    "# SciPy\n",
    "Now Lets do some Curve Fitting of Scatter Sin(x) With SciPy\n",
    "\n",
    "Lets make data"
   ]
  },
  {
   "cell_type": "code",
   "execution_count": null,
   "metadata": {},
   "outputs": [],
   "source": [
    "# Seed the random number generator for reproducibility\n",
    "np.random.seed(194)\n",
    "\n",
    "x_data = np.linspace(-5, 5, num=50) #setup x data\n",
    "y_data = 2.9 * np.sin(1.5 * x_data) + np.random.normal(size=50) #setup sin(x) random data\n",
    "errors = np.zeros(len(y_data)) + 1\n",
    "# And plot it\n",
    "import matplotlib.pyplot as plt\n",
    "plt.figure(figsize=(10, 5))\n",
    "plt.scatter(x_data, y_data, s =80) #scatter plot\n",
    "plt.errorbar(x_data,y_data,yerr = errors, fmt = \"r+\")"
   ]
  },
  {
   "cell_type": "markdown",
   "metadata": {},
   "source": [
    "Now lets Fit the data"
   ]
  },
  {
   "cell_type": "code",
   "execution_count": null,
   "metadata": {},
   "outputs": [],
   "source": [
    "from scipy import optimize\n",
    "\n",
    "def test_func(x, a, b):\n",
    "    return a * np.sin(b * x) #test function with fix of a*sin(b*x)\n",
    "\n",
    "params, params_covariance = optimize.curve_fit(test_func, x_data, y_data,\n",
    "                                               p0=[10, 1.5], sigma = errors) #fit of data\n",
    "\n",
    "print(params)"
   ]
  },
  {
   "cell_type": "markdown",
   "metadata": {},
   "source": [
    "Now lets plot the results"
   ]
  },
  {
   "cell_type": "code",
   "execution_count": null,
   "metadata": {},
   "outputs": [],
   "source": [
    "plt.figure(figsize=(10, 5))\n",
    "plt.scatter(x_data, y_data, label='Data')\n",
    "plt.plot(x_data, test_func(x_data, params[0], params[1]),\n",
    "         label='Fitted function', c='r')\n",
    "plt.errorbar(x_data,y_data,yerr = errors, fmt = \"r+\")\n",
    "plt.legend(loc='best')\n",
    "\n",
    "plt.show()"
   ]
  },
  {
   "cell_type": "markdown",
   "metadata": {},
   "source": [
    "SciPy can also do Integration and Derviative and Solve Function"
   ]
  },
  {
   "cell_type": "code",
   "execution_count": null,
   "metadata": {},
   "outputs": [],
   "source": [
    "import numpy as np\n",
    "def f1(x):\n",
    "    return x**2 # x**2 is same as x^2\n",
    "\n",
    "def f2(x):\n",
    "    return x**3\n",
    "\n",
    "x = np.array([1,3,4]) #x data to integrate with\n",
    "y1 = f1(x)\n",
    "from scipy.integrate import simps\n",
    "I1 = simps(y1, x)\n",
    "print(I1)"
   ]
  },
  {
   "cell_type": "markdown",
   "metadata": {},
   "source": [
    "# Sympy"
   ]
  },
  {
   "cell_type": "code",
   "execution_count": null,
   "metadata": {},
   "outputs": [],
   "source": [
    "from sympy import *\n",
    "init_printing()\n",
    "x = Symbol('x')\n",
    "Integral(x**2,x) #same integration but now visual\n"
   ]
  },
  {
   "cell_type": "code",
   "execution_count": null,
   "metadata": {},
   "outputs": [],
   "source": [
    "print(latex(Integral(x**2,x))) #latex code"
   ]
  },
  {
   "cell_type": "code",
   "execution_count": null,
   "metadata": {},
   "outputs": [],
   "source": [
    "Derivative(x**2,x)"
   ]
  },
  {
   "cell_type": "code",
   "execution_count": null,
   "metadata": {},
   "outputs": [],
   "source": [
    "integrate(x**2,(x,1,4)) #definite integration"
   ]
  },
  {
   "cell_type": "markdown",
   "metadata": {},
   "source": [
    "# Pandas"
   ]
  },
  {
   "cell_type": "markdown",
   "metadata": {},
   "source": [
    "Now we will look at Pandas"
   ]
  },
  {
   "cell_type": "code",
   "execution_count": null,
   "metadata": {},
   "outputs": [],
   "source": [
    "import pandas as pd\n",
    "\n",
    "#pd.set_option('display.mpl_style', 'default') # Make the graphs a bit prettier\n",
    "#plt.rcParams['figure.figsize'] = (15, 5)\n",
    "\n",
    "broken_df = pd.read_csv('bikes.csv') #bike.csv is cycling info from Montreal, that is why it is French\n",
    "# Look at the first 3 rows\n",
    "broken_df[:3]\n",
    "\n"
   ]
  },
  {
   "cell_type": "code",
   "execution_count": null,
   "metadata": {},
   "outputs": [],
   "source": [
    "fixed_df = pd.read_csv('bikes.csv', sep=';', encoding='latin1', parse_dates=['Date'], dayfirst=True, index_col='Date')\n",
    "fixed_df[:4]"
   ]
  },
  {
   "cell_type": "markdown",
   "metadata": {},
   "source": [
    "# 1.2 Selecting a column"
   ]
  },
  {
   "cell_type": "code",
   "execution_count": null,
   "metadata": {},
   "outputs": [],
   "source": [
    "fixed_df['Berri 1']"
   ]
  },
  {
   "cell_type": "markdown",
   "metadata": {},
   "source": [
    "# 1.3 Plotting a column"
   ]
  },
  {
   "cell_type": "markdown",
   "metadata": {},
   "source": [
    "Just add `.plot()` to the end! How could it be easier? =)\n",
    "\n",
    "We can see that, unsurprisingly, not many people are biking in January, February, and March, "
   ]
  },
  {
   "cell_type": "code",
   "execution_count": null,
   "metadata": {},
   "outputs": [],
   "source": [
    "fixed_df['Berri 1'].plot(figsize=(15,10))"
   ]
  },
  {
   "cell_type": "markdown",
   "metadata": {},
   "source": [
    "We can also plot all the columns just as easily. We'll make it a little bigger, too.\n",
    "You can see that it's more squished together, but all the bike paths behave basically the same -- if it's a bad day for cyclists, it's a bad day everywhere."
   ]
  },
  {
   "cell_type": "code",
   "execution_count": null,
   "metadata": {},
   "outputs": [],
   "source": [
    "fixed_df.plot(figsize=(15, 10))"
   ]
  },
  {
   "cell_type": "markdown",
   "metadata": {},
   "source": [
    "### Real physics data in Pandas\n",
    "\n",
    "Here we will look at real physics data from the CLAS collaboration at JLab. Don't worry about knowing the physics behind this it is more to see how you can load manipulate save the data using pandas and numpy."
   ]
  },
  {
   "cell_type": "code",
   "execution_count": null,
   "metadata": {},
   "outputs": [],
   "source": [
    "import pandas as pd\n",
    "data = pd.read_csv(\"511_lab_E_100k.csv.bz2\")\n",
    "data.head()"
   ]
  },
  {
   "cell_type": "code",
   "execution_count": null,
   "metadata": {},
   "outputs": [],
   "source": [
    "# Describe the data\n",
    "data.describe()"
   ]
  },
  {
   "cell_type": "code",
   "execution_count": null,
   "metadata": {},
   "outputs": [],
   "source": [
    "@np.vectorize\n",
    "def q2_calc(px, py, pz):\n",
    "    e_beam = np.array([0, 0, 4.8, 4.8])\n",
    "    e_prime = np.array([px, py, pz, np.linalg.norm([px, py, pz, 0.000511])])\n",
    "    temp = e_beam - e_prime\n",
    "    temp2 = temp[0]*temp[0]+temp[1]*temp[1]+temp[2]*temp[2]-temp[3]*temp[3]\n",
    "    return temp2\n",
    "\n",
    "@np.vectorize\n",
    "def W_calc(px, py, pz):\n",
    "    e_beam = np.array([0, 0, 4.8, 4.8])\n",
    "    e_prime = np.array([px, py, pz, np.linalg.norm([px, py, pz, 0.000511])])\n",
    "    p_targ = np.array([0, 0, 0.0, 0.93828])\n",
    "    temp = e_beam - e_prime + p_targ\n",
    "    temp2 = temp[0]*temp[0]+temp[1]*temp[1]+temp[2]*temp[2]-temp[3]*temp[3]\n",
    "    return np.sqrt(-temp2)"
   ]
  },
  {
   "cell_type": "code",
   "execution_count": null,
   "metadata": {},
   "outputs": [],
   "source": [
    "%%time\n",
    "# Niave way of working with data:\n",
    "# Make some arrays\n",
    "px = []\n",
    "py = []\n",
    "pz = []\n",
    "q2 = []\n",
    "w = []\n",
    "# Loop over all the rows\n",
    "for index, row in data.iterrows():\n",
    "    # Do your calculation and fill the array\n",
    "    px.append(row.p*row.cx)\n",
    "    py.append(row.p*row.cy)\n",
    "    pz.append(row.p*row.cz)\n",
    "    q2.append(q2_calc(px[-1],py[-1],pz[-1]))\n",
    "    w.append(W_calc(px[-1],py[-1],pz[-1]))\n",
    "        \n",
    "# Place the arrays into the dataframe\n",
    "data['px'] = px\n",
    "data['py'] = py\n",
    "data['pz'] = pz\n",
    "data['q2'] = q2\n",
    "data['w'] = w"
   ]
  },
  {
   "cell_type": "code",
   "execution_count": null,
   "metadata": {},
   "outputs": [],
   "source": [
    "%%time\n",
    "# Without looping we can caluclate everything much faster\n",
    "data['px'] = data['cx'] * data['p']\n",
    "data['py'] = data['cy'] * data['p']\n",
    "data['pz'] = data['cz'] * data['p']\n",
    "# Using the @np.vectorize dectorator on the functions allows them to work\n",
    "# Over all the columns without looping\n",
    "data['q2'] = q2_calc(data['px'],data['py'],data['pz'])\n",
    "data['w'] = W_calc(data['px'],data['py'],data['pz'])"
   ]
  },
  {
   "cell_type": "code",
   "execution_count": null,
   "metadata": {},
   "outputs": [],
   "source": [
    "# Plot pandas data from matplotlib\n",
    "# Simple variables names without spaces can be called like this:\n",
    "plt.hist2d(data.w, data.q2, bins=200)\n",
    "plt.show()"
   ]
  },
  {
   "cell_type": "code",
   "execution_count": null,
   "metadata": {},
   "outputs": [],
   "source": [
    "# Or plot directly from pandas df\n",
    "data['w'].hist(bins=100)\n",
    "plt.show()"
   ]
  },
  {
   "cell_type": "markdown",
   "metadata": {},
   "source": [
    "To calculate $\\theta = \\arccos\\left(cos_z\\right)$\n",
    "\n",
    "To calculate $\\phi = \\arctan2\\left(cos_x, cos_y\\right)$"
   ]
  },
  {
   "cell_type": "code",
   "execution_count": null,
   "metadata": {},
   "outputs": [],
   "source": [
    "# Or use already made numpy functions to do our calculations\n",
    "data['theta'] = np.arccos(data.cz)\n",
    "data['phi'] = np.arctan2(data.cx, data.cy)"
   ]
  },
  {
   "cell_type": "code",
   "execution_count": null,
   "metadata": {},
   "outputs": [],
   "source": [
    "# We can plot all the data from a dataframe at once\n",
    "data.hist(bins=100, figsize=(10,10))\n",
    "plt.show()"
   ]
  },
  {
   "cell_type": "code",
   "execution_count": null,
   "metadata": {},
   "outputs": [],
   "source": [
    "# And make cuts to the data and save as new dataframes\n",
    "data_2 = data[data.q2 < 2.0]\n",
    "\n",
    "data_2.hist(bins=100, figsize=(10,10))\n",
    "plt.show()"
   ]
  },
  {
   "cell_type": "markdown",
   "metadata": {},
   "source": [
    "# References"
   ]
  },
  {
   "cell_type": "markdown",
   "metadata": {},
   "source": [
    "[1] https://matplotlib.org/tutorials/index.html\n",
    "[2] https://pandas.pydata.org/pandas-docs/stable/getting_started/tutorials.html"
   ]
  }
 ],
 "metadata": {
  "kernelspec": {
   "display_name": "Python 3",
   "language": "python",
   "name": "python3"
  },
  "language_info": {
   "codemirror_mode": {
    "name": "ipython",
    "version": 3
   },
   "file_extension": ".py",
   "mimetype": "text/x-python",
   "name": "python",
   "nbconvert_exporter": "python",
   "pygments_lexer": "ipython3",
   "version": "3.7.3"
  }
 },
 "nbformat": 4,
 "nbformat_minor": 2
}