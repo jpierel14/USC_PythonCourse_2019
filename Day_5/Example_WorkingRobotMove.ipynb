{
 "cells": [
  {
   "cell_type": "code",
   "execution_count": 1,
   "metadata": {},
   "outputs": [
    {
     "name": "stdout",
     "output_type": "stream",
     "text": [
      "FinalPosition [-10   8]\n"
     ]
    }
   ],
   "source": [
    "import numpy\n",
    "\n",
    "#w -> up\n",
    "#s -> down\n",
    "#a -> left\n",
    "#d -> right\n",
    "\n",
    "def MoveRobotBasedOnMovementString( \n",
    "    StartPosition = None,\n",
    "    MovementString = None,\n",
    "    ):\n",
    "\n",
    "\n",
    "    Position = numpy.array( StartPosition )\n",
    "    for Char in ExampleMovementString:\n",
    "        if Char is 'w': Position = Position + numpy.array([0,1])\n",
    "        elif Char is 's': Position = Position + numpy.array([0,-1])\n",
    "        elif Char is 'a': Position = Position + numpy.array([1,0])\n",
    "        elif Char is 'd': Position = Position + numpy.array([-1,0])            \n",
    "        else:\n",
    "            raise Exception( 'unrecognized character' )    \n",
    "\n",
    "    FinalPosition = Position\n",
    "    return FinalPosition\n",
    "\n",
    "\n",
    "ExampleMovementString = 'wasdwsdwadwasdssssddddwwwwwsswwdasdwadaaadsdwdwdwdwdwdwd'\n",
    "ExampleStartPosition = [1,1]\n",
    "\n",
    "\n",
    "\n",
    "FinalPosition = MoveRobotBasedOnMovementString(\n",
    "    StartPosition  = ExampleStartPosition ,\n",
    "    MovementString = ExampleMovementString,\n",
    "\n",
    "    )\n",
    "\n",
    "\n",
    "print ('FinalPosition', FinalPosition)\n"
   ]
  },
  {
   "cell_type": "code",
   "execution_count": null,
   "metadata": {},
   "outputs": [],
   "source": []
  }
 ],
 "metadata": {
  "kernelspec": {
   "display_name": "Python 3",
   "language": "python",
   "name": "python3"
  },
  "language_info": {
   "codemirror_mode": {
    "name": "ipython",
    "version": 3
   },
   "file_extension": ".py",
   "mimetype": "text/x-python",
   "name": "python",
   "nbconvert_exporter": "python",
   "pygments_lexer": "ipython3",
   "version": "3.7.2"
  }
 },
 "nbformat": 4,
 "nbformat_minor": 2
}
