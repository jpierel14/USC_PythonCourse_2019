{
 "cells": [
  {
   "cell_type": "code",
   "execution_count": 1,
   "metadata": {},
   "outputs": [
    {
     "name": "stdout",
     "output_type": "stream",
     "text": [
      "1\n",
      "2\n",
      "Fizz\n",
      "4\n",
      "Buzz\n",
      "Fizz\n",
      "7\n",
      "8\n",
      "Fizz\n",
      "Buzz\n",
      "11\n",
      "Fizz\n",
      "13\n",
      "14\n",
      "FizzBuzz\n",
      "16\n",
      "17\n",
      "Fizz\n",
      "19\n",
      "Buzz\n"
     ]
    },
    {
     "data": {
      "text/plain": [
       "'Buzz'"
      ]
     },
     "execution_count": 1,
     "metadata": {},
     "output_type": "execute_result"
    }
   ],
   "source": [
    "def FizzBuzzStringConstruct( MaximumNumber = None ) :\n",
    "\n",
    "    for num in range(1,MaximumNumber):\n",
    "        string = \"\"\n",
    "        if num % 3 == 0:\n",
    "            string = string + \"Fizz\"\n",
    "        if num % 5 == 0:\n",
    "            string = string + \"Buzz\"\n",
    "        if num % 5 != 0 and num % 3 != 0:\n",
    "            string = string + str(num)\n",
    "        print(string)\n",
    "\n",
    "    return string\n",
    "\n",
    "\n",
    "ExampleMaximumNumber = 21\n",
    "FizzBuzzStringConstruct ( \n",
    "    MaximumNumber = ExampleMaximumNumber,\n",
    "    )\n"
   ]
  },
  {
   "cell_type": "code",
   "execution_count": null,
   "metadata": {},
   "outputs": [],
   "source": []
  }
 ],
 "metadata": {
  "kernelspec": {
   "display_name": "Python 3",
   "language": "python",
   "name": "python3"
  },
  "language_info": {
   "codemirror_mode": {
    "name": "ipython",
    "version": 3
   },
   "file_extension": ".py",
   "mimetype": "text/x-python",
   "name": "python",
   "nbconvert_exporter": "python",
   "pygments_lexer": "ipython3",
   "version": "3.7.2"
  }
 },
 "nbformat": 4,
 "nbformat_minor": 2
}
